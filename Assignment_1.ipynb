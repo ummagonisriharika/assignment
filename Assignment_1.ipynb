{
  "nbformat": 4,
  "nbformat_minor": 0,
  "metadata": {
    "colab": {
      "name": "Assignment 1",
      "provenance": [],
      "collapsed_sections": [],
      "authorship_tag": "ABX9TyPq1y6KNXBIQrbakUnQeM/9",
      "include_colab_link": true
    },
    "kernelspec": {
      "name": "python3",
      "display_name": "Python 3"
    }
  },
  "cells": [
    {
      "cell_type": "markdown",
      "metadata": {
        "id": "view-in-github",
        "colab_type": "text"
      },
      "source": [
        "<a href=\"https://colab.research.google.com/github/ummagonisriharika/assignment/blob/master/Assignment_1.ipynb\" target=\"_parent\"><img src=\"https://colab.research.google.com/assets/colab-badge.svg\" alt=\"Open In Colab\"/></a>"
      ]
    },
    {
      "cell_type": "markdown",
      "metadata": {
        "id": "Ky_a0Q8tiXac",
        "colab_type": "text"
      },
      "source": [
        "1. Develop a code for below scenario"
      ]
    },
    {
      "cell_type": "code",
      "metadata": {
        "id": "7AMbmY9I92mc",
        "colab_type": "code",
        "colab": {
          "base_uri": "https://localhost:8080/",
          "height": 72
        },
        "outputId": "1329bde9-951c-4a62-f73a-43544a56cd6a"
      },
      "source": [
        "year=int(input(\"enter year : \"))\n",
        "r=year%12\n",
        "d={0:\"monkey\",1:\"rooster\",2:\"dog\",3:\"pig\",4:\"rat\",5:\"ox\",6:\"tiger\",7:\"rabbit\",8:\"dragon\",9:\"snake\",10:\"horse\",11:\"sheep\"}\n",
        "print(r)\n",
        "print(d[r])"
      ],
      "execution_count": null,
      "outputs": [
        {
          "output_type": "stream",
          "text": [
            "enter year : 2034\n",
            "6\n",
            "tiger\n"
          ],
          "name": "stdout"
        }
      ]
    },
    {
      "cell_type": "markdown",
      "metadata": {
        "id": "ND81x5lpi9nQ",
        "colab_type": "text"
      },
      "source": [
        "2.A Quick Fox Transport Co. wants to develop an application for calculating amount\n",
        "based on distance and weight of goods. The charges (Amount) to be calculated as per\n",
        "rates given below.\n",
        "Input: Distance to be travel: 520\n",
        "Weight of the goods: 50\n",
        "Output: Amount to be charged: 3120 /-"
      ]
    },
    {
      "cell_type": "code",
      "metadata": {
        "id": "E4gQaRdv95hG",
        "colab_type": "code",
        "colab": {
          "base_uri": "https://localhost:8080/",
          "height": 72
        },
        "outputId": "38503134-ddc1-4075-ca2d-094734dab021"
      },
      "source": [
        "distance=int(input(\"enter the distance to be travelled : \"))\n",
        "weight=int(input(\"enter the weight of the goods : \"))\n",
        "if distance>=500:\n",
        " if weight>=100:\n",
        "    cost=5*distance\n",
        " elif weight>=10 and weight<100:\n",
        "    cost=6*distance\n",
        " else:\n",
        "    cost=8*distance\n",
        "else :\n",
        "     if weight>=100:\n",
        "        cost=8*distance\n",
        "     else :\n",
        "        cost=5*distance\n",
        "print(\"Amount to be charged : \",cost)\n",
        "\n",
        "\n",
        "\n"
      ],
      "execution_count": null,
      "outputs": [
        {
          "output_type": "stream",
          "text": [
            "enter the distance to be travelled : 520\n",
            "enter the weight of the goods : 50\n",
            "Amount to be charged :  3120\n"
          ],
          "name": "stdout"
        }
      ]
    },
    {
      "cell_type": "markdown",
      "metadata": {
        "id": "SllIZRa0if7a",
        "colab_type": "text"
      },
      "source": [
        "3.The Entertainment Paradise\n",
        "A theater in Delhi wants to develop a computerized Booking System. The theater offers\n",
        "different types of seats. The Ticket rates are- Stalls- Rs. 625/-, Circle- Rs.750/-, Upper\n",
        "Class- Rs.850/- and Box- Rs.1000/-. A discount is given 10% of total amount if tickets\n",
        "are purchased on Cash. In case of credit card holders 5% discount is given.\n",
        "Input: Type of Seat: Circle\n",
        "Payment mode: cash\n",
        "Output: Cost of ticket: 675"
      ]
    },
    {
      "cell_type": "code",
      "metadata": {
        "id": "Az02DStrE2uh",
        "colab_type": "code",
        "colab": {
          "base_uri": "https://localhost:8080/",
          "height": 72
        },
        "outputId": "65327981-b0ea-4584-efab-df97b37cf720"
      },
      "source": [
        "ts=[\"stalls\",\"circle\",\"upperclass\",\"box\"]\n",
        "payment=[\"cash\",\"credit\"]\n",
        "seat=input(str(\"Type of seat : \"))\n",
        "mode=input(str(\"Payment mode : \"))\n",
        "if seat in ts[0]:\n",
        "  if mode in payment[0]:\n",
        "   discount=625*10/100\n",
        "   cost=625-discount\n",
        "  else:\n",
        "   discount=625*5/10\n",
        "   cost=625-discount\n",
        "elif seat in ts[1]:\n",
        "  if mode in payment[0]:\n",
        "    discount=750*10/100\n",
        "    cost=750-discount\n",
        "  else:\n",
        "    discount=750*5/100\n",
        "    cost=750-discount\n",
        "elif seat in ts[2]:\n",
        "  if mode in payment[0]:\n",
        "    discount=850*10/100\n",
        "    cost=850-discount\n",
        "  else:\n",
        "    discount=850*5/100\n",
        "    cost=850-discount\n",
        "else:\n",
        "  if mode in payment[0]:\n",
        "    discount=1000*10/100\n",
        "    cost=1000-discount\n",
        "  else:\n",
        "    discount=1000*5/100\n",
        "    cost=1000-discount\n",
        "print(\"cost of ticket : \",cost)\n",
        "  \n",
        "\n"
      ],
      "execution_count": null,
      "outputs": [
        {
          "output_type": "stream",
          "text": [
            "Type of seat : circle\n",
            "Payment mode : cash\n",
            "cost of ticket :  675.0\n"
          ],
          "name": "stdout"
        }
      ]
    },
    {
      "cell_type": "markdown",
      "metadata": {
        "id": "g51kw03lis2o",
        "colab_type": "text"
      },
      "source": [
        "4.Develop a program that calculates the energy needed to heat water from an initial\n",
        "temperature to a final temperature. Your program should prompt the user to enter the\n",
        "amount of water in kilograms and the initial and final temperatures of the water. The\n",
        "formula to compute the energy is\n",
        "\n",
        "Q = M * (finalTemperature – initialTemperature) * 4184.\n",
        "\n",
        "where M is the weight of water in kilograms, temperatures are in degrees Celsius, and\n",
        "energy Q is measured in joules. (L6)"
      ]
    },
    {
      "cell_type": "code",
      "metadata": {
        "id": "4UqHU3C0j2l-",
        "colab_type": "code",
        "colab": {
          "base_uri": "https://localhost:8080/",
          "height": 91
        },
        "outputId": "b5286ea7-746a-41bb-855d-b4f5a77673f8"
      },
      "source": [
        "M=int(input(\"enter weight of water : \"))\n",
        "I=int(input(\"enter initial temperature : \"))\n",
        "F=int(input(\"enter final temperature : \"))\n",
        "Q=M*(F-I)*4184\n",
        "print(\"energy measured in joules : \",Q)"
      ],
      "execution_count": null,
      "outputs": [
        {
          "output_type": "stream",
          "text": [
            "enter weight of water : 8\n",
            "enter initial temperature : 20\n",
            "enter final temperature : 80\n",
            "energy measured in joules :  2008320\n"
          ],
          "name": "stdout"
        }
      ]
    },
    {
      "cell_type": "markdown",
      "metadata": {
        "id": "aspbpL3VadbL",
        "colab_type": "text"
      },
      "source": [
        "5.Develop a program that prompts user to enter month and print\n",
        "a. “Winter ” - December ,January and February\n",
        "b. “Spring” - March ,April and May\n",
        "c. “Summer” --- June ,July, August\n",
        "d. “Autumn ” -- September ,October, November"
      ]
    },
    {
      "cell_type": "code",
      "metadata": {
        "id": "cfioT6Wxakxv",
        "colab_type": "code",
        "colab": {
          "base_uri": "https://localhost:8080/",
          "height": 54
        },
        "outputId": "2d283dfd-150f-4978-efda-689c8018abc3"
      },
      "source": [
        "winter=[\"December\",\"January\",\"February\"]\n",
        "spring=[\"March\",\"April\",\"May\"]\n",
        "summer=[\"June\",\"July\",\"August\"]\n",
        "autumn=[\"September\",\"October\",\"November\"]\n",
        "month=input(\"enter the month : \")\n",
        "if month in winter:\n",
        "    print(\"It is a winter season\")\n",
        "elif month in spring:\n",
        "    print(\"It is a spring season\")\n",
        "elif month in summer:\n",
        "    print(\"It is a summer season\")\n",
        "else:\n",
        "    print(\"It is a autumn season\")"
      ],
      "execution_count": null,
      "outputs": [
        {
          "output_type": "stream",
          "text": [
            "enter the month : December\n",
            "It is a winter season\n"
          ],
          "name": "stdout"
        }
      ]
    },
    {
      "cell_type": "markdown",
      "metadata": {
        "id": "iYbvizO7bftE",
        "colab_type": "text"
      },
      "source": [
        "6.Body Mass Index"
      ]
    },
    {
      "cell_type": "code",
      "metadata": {
        "id": "8R9tywYbb7S7",
        "colab_type": "code",
        "colab": {
          "base_uri": "https://localhost:8080/",
          "height": 128
        },
        "outputId": "a7d7879c-72cf-4c1d-82ff-f71aa2db6df1"
      },
      "source": [
        "weight=int(input(\"enter the weight in pounds\"))\n",
        "height=float(input(\"enter the height in inches\"))\n",
        "w=(weight*0.45359237)\n",
        "print(w)\n",
        "h=(height*0.0254)\n",
        "print(\"height of person : \",h)\n",
        "BMI=w/(h**2)\n",
        "print(\"Body Mass Index of person : \",BMI )\n",
        "if BMI<18.5:\n",
        "    print(\"underweight\")\n",
        "if BMI>=18.5 and BMI<25.0:\n",
        "    print(\"normal\")\n",
        "if BMI>=25.0 and BMI<30.0:\n",
        "    print(\"overweight\")\n",
        "if BMI>30.0:\n",
        "    print(\"obese\")\n"
      ],
      "execution_count": null,
      "outputs": [
        {
          "output_type": "stream",
          "text": [
            "enter the weight in pounds100\n",
            "enter the height in inches5.4\n",
            "45.359237\n",
            "height of person :  0.13716\n",
            "Body Mass Index of person :  2411.0753759916297\n",
            "obese\n"
          ],
          "name": "stdout"
        }
      ]
    },
    {
      "cell_type": "markdown",
      "metadata": {
        "id": "lXThW3MOdXM7",
        "colab_type": "text"
      },
      "source": [
        "7.Write a program that reads an integer between 100 and 1000 and adds all the digits in the\n",
        "integer ( ex: input 745 # output =16 (7+4+5) )"
      ]
    },
    {
      "cell_type": "code",
      "metadata": {
        "id": "GPHWkiscdffX",
        "colab_type": "code",
        "colab": {
          "base_uri": "https://localhost:8080/",
          "height": 54
        },
        "outputId": "8eb1a2af-0f5d-4deb-e39a-9d941404fceb"
      },
      "source": [
        "number=int(input(\"enter a number between 100 and 1000 : \"))\n",
        "remainder=0\n",
        "sum=0\n",
        "if(number>100 and number<1000):\n",
        "    while number>0:\n",
        "        remainder=number%10\n",
        "        sum=sum+remainder\n",
        "        number=number//10\n",
        "    print(sum)\n",
        "else:\n",
        "    print(\"the number entered is not in the range\")"
      ],
      "execution_count": null,
      "outputs": [
        {
          "output_type": "stream",
          "text": [
            "enter a number between 100 and 1000 : 200\n",
            "2\n"
          ],
          "name": "stdout"
        }
      ]
    },
    {
      "cell_type": "markdown",
      "metadata": {
        "id": "TFIos7jHgclJ",
        "colab_type": "text"
      },
      "source": [
        "8.Print all palindrome numbers between 1 to 1000."
      ]
    },
    {
      "cell_type": "code",
      "metadata": {
        "id": "hyzBjSLxiDts",
        "colab_type": "code",
        "colab": {
          "base_uri": "https://localhost:8080/",
          "height": 1000
        },
        "outputId": "36a684d4-b925-42bb-8fe9-037259d60ad0"
      },
      "source": [
        "rem=0\n",
        "for i in range(1,1000):\n",
        "    n=i\n",
        "    rev=0\n",
        "    while n>0:\n",
        "        rem=n%10\n",
        "        rev=rev*10+rem\n",
        "        n=n//10\n",
        "    if i==rev:\n",
        "        print(i)\n"
      ],
      "execution_count": null,
      "outputs": [
        {
          "output_type": "stream",
          "text": [
            "1\n",
            "2\n",
            "3\n",
            "4\n",
            "5\n",
            "6\n",
            "7\n",
            "8\n",
            "9\n",
            "11\n",
            "22\n",
            "33\n",
            "44\n",
            "55\n",
            "66\n",
            "77\n",
            "88\n",
            "99\n",
            "101\n",
            "111\n",
            "121\n",
            "131\n",
            "141\n",
            "151\n",
            "161\n",
            "171\n",
            "181\n",
            "191\n",
            "202\n",
            "212\n",
            "222\n",
            "232\n",
            "242\n",
            "252\n",
            "262\n",
            "272\n",
            "282\n",
            "292\n",
            "303\n",
            "313\n",
            "323\n",
            "333\n",
            "343\n",
            "353\n",
            "363\n",
            "373\n",
            "383\n",
            "393\n",
            "404\n",
            "414\n",
            "424\n",
            "434\n",
            "444\n",
            "454\n",
            "464\n",
            "474\n",
            "484\n",
            "494\n",
            "505\n",
            "515\n",
            "525\n",
            "535\n",
            "545\n",
            "555\n",
            "565\n",
            "575\n",
            "585\n",
            "595\n",
            "606\n",
            "616\n",
            "626\n",
            "636\n",
            "646\n",
            "656\n",
            "666\n",
            "676\n",
            "686\n",
            "696\n",
            "707\n",
            "717\n",
            "727\n",
            "737\n",
            "747\n",
            "757\n",
            "767\n",
            "777\n",
            "787\n",
            "797\n",
            "808\n",
            "818\n",
            "828\n",
            "838\n",
            "848\n",
            "858\n",
            "868\n",
            "878\n",
            "888\n",
            "898\n",
            "909\n",
            "919\n",
            "929\n",
            "939\n",
            "949\n",
            "959\n",
            "969\n",
            "979\n",
            "989\n",
            "999\n"
          ],
          "name": "stdout"
        }
      ]
    },
    {
      "cell_type": "markdown",
      "metadata": {
        "id": "KaSyBLIi-xW_",
        "colab_type": "text"
      },
      "source": [
        "9.Print all Armstrong numbers between 1 to 1000."
      ]
    },
    {
      "cell_type": "code",
      "metadata": {
        "id": "n1olQ9gi-4R8",
        "colab_type": "code",
        "colab": {
          "base_uri": "https://localhost:8080/",
          "height": 109
        },
        "outputId": "bd27fcb8-899d-4313-beca-593ec99ec60a"
      },
      "source": [
        "rem=0\n",
        "for i in range(1,1000):\n",
        "    n=i\n",
        "    rev=0\n",
        "    while n>0:\n",
        "        rem=n%10\n",
        "        rev=rev+rem**3\n",
        "        n=n//10\n",
        "    if i==rev:\n",
        "        print(i)\n"
      ],
      "execution_count": null,
      "outputs": [
        {
          "output_type": "stream",
          "text": [
            "1\n",
            "153\n",
            "370\n",
            "371\n",
            "407\n"
          ],
          "name": "stdout"
        }
      ]
    },
    {
      "cell_type": "markdown",
      "metadata": {
        "id": "WOC7q7gjAOSo",
        "colab_type": "text"
      },
      "source": [
        "10.Write a Java program which iterates the integers from 1 to 100. For multiples of three\n",
        "print &quot;Fizz&quot; instead of the number and print &quot;Buzz&quot; for the multiples of five. When\n",
        "number is divided by both three and five, print &quot;fizz buzz&quot;."
      ]
    },
    {
      "cell_type": "code",
      "metadata": {
        "id": "20APDbJMARkO",
        "colab_type": "code",
        "colab": {
          "base_uri": "https://localhost:8080/",
          "height": 866
        },
        "outputId": "6cc318f0-d28f-4005-94a3-6d75634ad40f"
      },
      "source": [
        "for i in range(1,100):\n",
        "    if i%3==0 and i%5==0:\n",
        "        print(\"fizz buzz\")\n",
        "    elif i%3==0:\n",
        "        print(\"fizz\")\n",
        "    elif i%5==0:\n",
        "        print(\"buzz\")"
      ],
      "execution_count": null,
      "outputs": [
        {
          "output_type": "stream",
          "text": [
            "fizz\n",
            "buzz\n",
            "fizz\n",
            "fizz\n",
            "buzz\n",
            "fizz\n",
            "fizz buzz\n",
            "fizz\n",
            "buzz\n",
            "fizz\n",
            "fizz\n",
            "buzz\n",
            "fizz\n",
            "fizz buzz\n",
            "fizz\n",
            "buzz\n",
            "fizz\n",
            "fizz\n",
            "buzz\n",
            "fizz\n",
            "fizz buzz\n",
            "fizz\n",
            "buzz\n",
            "fizz\n",
            "fizz\n",
            "buzz\n",
            "fizz\n",
            "fizz buzz\n",
            "fizz\n",
            "buzz\n",
            "fizz\n",
            "fizz\n",
            "buzz\n",
            "fizz\n",
            "fizz buzz\n",
            "fizz\n",
            "buzz\n",
            "fizz\n",
            "fizz\n",
            "buzz\n",
            "fizz\n",
            "fizz buzz\n",
            "fizz\n",
            "buzz\n",
            "fizz\n",
            "fizz\n"
          ],
          "name": "stdout"
        }
      ]
    },
    {
      "cell_type": "markdown",
      "metadata": {
        "id": "fuUGAdwaAfSN",
        "colab_type": "text"
      },
      "source": [
        "11.Spider Problem: A spider present at the bottom of the well of height H, needs to get out\n",
        "of it, using the slippery wall of the well. It decides to climb up the well; it goes up U\n",
        "meters and slips down D meters in one single step. So, in each step it covers (U-D)\n",
        "meters, and if the spider gets out of the well by covering U meters in the last step it\n",
        "doesn’t a slip back. For example, if the spider climbs up 5 meters and slips down by 3\n",
        "meters in a single step, it covers (U - D) m in each step and 96 m in 48 steps, but in the\n",
        "49th step it climbs up 5 m and reaches out of the well and it will not slip down and the\n",
        "step is counted as one step. \n",
        "Input: Each test case will contain 3 integers ’H’ height of the well, next ’U’ meters\n",
        "climbs up in each step, and the last ’D’ meters slips down in each step.\n",
        "Output: The number of steps &#39;N&#39; required to get out of the well.\n",
        "Example 1:\n",
        "  Input: Ouput\n",
        "200 50 1 5\n",
        "Example 2:\n",
        "  Input: Output\n",
        "500 20 15 98"
      ]
    },
    {
      "cell_type": "code",
      "metadata": {
        "id": "UrqLaFs9AjXt",
        "colab_type": "code",
        "colab": {
          "base_uri": "https://localhost:8080/",
          "height": 91
        },
        "outputId": "cecebec8-70d6-4de7-8f76-204d3b4235c1"
      },
      "source": [
        "h=int(input(\"enter height of the well : \"))\n",
        "u=int(input(\"enter the meters spider climb up for each step : \"))\n",
        "d=int(input(\"enter the meters the spider slips down for each step : \"))\n",
        "s=0\n",
        "t=0\n",
        "p=0\n",
        "while t<=h:\n",
        "    t=t+u\n",
        "    if(t<=h):\n",
        "        t=t-d\n",
        "    s=s+1\n",
        "print(s)"
      ],
      "execution_count": null,
      "outputs": [
        {
          "output_type": "stream",
          "text": [
            "enter height of the well : 500\n",
            "enter the meters spider climb up for each step : 20\n",
            "enter the meters the spider slips down for each step : 15\n",
            "98\n"
          ],
          "name": "stdout"
        }
      ]
    }
  ]
}