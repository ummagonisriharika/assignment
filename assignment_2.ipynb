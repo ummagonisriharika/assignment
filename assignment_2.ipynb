{
  "nbformat": 4,
  "nbformat_minor": 0,
  "metadata": {
    "colab": {
      "name": "assignment 2.ipynb",
      "provenance": [],
      "authorship_tag": "ABX9TyPPABKRdP9ogxcDOB8151aq",
      "include_colab_link": true
    },
    "kernelspec": {
      "name": "python3",
      "display_name": "Python 3"
    }
  },
  "cells": [
    {
      "cell_type": "markdown",
      "metadata": {
        "id": "view-in-github",
        "colab_type": "text"
      },
      "source": [
        "<a href=\"https://colab.research.google.com/github/ummagonisriharika/assignment/blob/master/assignment_2.ipynb\" target=\"_parent\"><img src=\"https://colab.research.google.com/assets/colab-badge.svg\" alt=\"Open In Colab\"/></a>"
      ]
    },
    {
      "cell_type": "markdown",
      "metadata": {
        "id": "n1BournOUl6A",
        "colab_type": "text"
      },
      "source": [
        "1. Area of Triangle :\n",
        "\n",
        "Given the lengths of three sides of a triangle, calculate the area of\n",
        "the triangle."
      ]
    },
    {
      "cell_type": "code",
      "metadata": {
        "id": "mIU82avBUr5n",
        "colab_type": "code",
        "colab": {
          "base_uri": "https://localhost:8080/",
          "height": 91
        },
        "outputId": "ce7483ef-34a0-4441-83ea-142d9b6c4ea4"
      },
      "source": [
        "a=int(input(\"Enter first side : \"))\n",
        "b=int(input(\"Enter second side : \"))\n",
        "c=int(input(\"Enter third side : \"))\n",
        "S=(a+b+c)/2\n",
        "area = (S*(S-a)*(S-b)*(S-c))**0.5\n",
        "print(\"Area of triangle is : \",area)"
      ],
      "execution_count": null,
      "outputs": [
        {
          "output_type": "stream",
          "text": [
            "Enter first side : 15\n",
            "Enter second side : 9\n",
            "Enter third side : 7\n",
            "Area of triangle is :  20.69269194667528\n"
          ],
          "name": "stdout"
        }
      ]
    },
    {
      "cell_type": "markdown",
      "metadata": {
        "id": "e2hVSiCjXpxS",
        "colab_type": "text"
      },
      "source": [
        "2. Take a string from end user and check if the value is palindrome or not"
      ]
    },
    {
      "cell_type": "code",
      "metadata": {
        "id": "Atq9wW71X49D",
        "colab_type": "code",
        "colab": {
          "base_uri": "https://localhost:8080/",
          "height": 54
        },
        "outputId": "c74b4358-225b-480d-bbfe-e20ff12c06f5"
      },
      "source": [
        "string=input(\"Enter string : \")\n",
        "if(string==string[::-1]):\n",
        "  print(\"The string is palindrome\")\n",
        "else:\n",
        "  print(\"The string is not a palindrome\")"
      ],
      "execution_count": null,
      "outputs": [
        {
          "output_type": "stream",
          "text": [
            "Enter string : malayalam\n",
            "The string is palindrome\n"
          ],
          "name": "stdout"
        }
      ]
    },
    {
      "cell_type": "markdown",
      "metadata": {
        "id": "sOlPwuEoaMJH",
        "colab_type": "text"
      },
      "source": [
        "3. Write a program that reads a year from the user and displays a message\n",
        "Indicating whether or not it is a leap year."
      ]
    },
    {
      "cell_type": "code",
      "metadata": {
        "id": "fmNzw4z7aPoo",
        "colab_type": "code",
        "colab": {
          "base_uri": "https://localhost:8080/",
          "height": 54
        },
        "outputId": "76f9d77b-0e75-455e-f32b-38d3f0a03d56"
      },
      "source": [
        "year=int(input(\"Enter year\"))\n",
        "if (year%4)==0:\n",
        "   if (year%100)==0:\n",
        "       if (year%400)==0:\n",
        "           print(year,\" is a leap year\")\n",
        "       else:\n",
        "           print(year,\" is not a leap year\")\n",
        "   else:\n",
        "       print(year,\" is a leap year\")\n",
        "else:\n",
        "   print(year,\" is not a leap year\")"
      ],
      "execution_count": null,
      "outputs": [
        {
          "output_type": "stream",
          "text": [
            "Enter year2000\n",
            "2000  is a leap year\n"
          ],
          "name": "stdout"
        }
      ]
    },
    {
      "cell_type": "markdown",
      "metadata": {
        "id": "zNH_2AjucFus",
        "colab_type": "text"
      },
      "source": [
        "4. Space To Hyphen problem\n",
        "\n",
        "Take a string as input, and replaces spaces “ “ with hyphens “-”, and\n",
        "returns a string.\n",
        "Input: “ This program converts spaces into hyphen”\n",
        "Output: “ This-program-converts-spaces-into-hyphen”"
      ]
    },
    {
      "cell_type": "code",
      "metadata": {
        "id": "VmmF9Z3mcMm9",
        "colab_type": "code",
        "colab": {
          "base_uri": "https://localhost:8080/",
          "height": 54
        },
        "outputId": "6e036959-8692-4153-821c-51ba8719144d"
      },
      "source": [
        "str1=input(\"Enter string : \")\n",
        "str2=str1.replace(' ','-')\n",
        "print(str2) "
      ],
      "execution_count": null,
      "outputs": [
        {
          "output_type": "stream",
          "text": [
            "Enter string : This program converts spaces into hyphen\n",
            "This-program-converts-spaces-into-hyphen\n"
          ],
          "name": "stdout"
        }
      ]
    },
    {
      "cell_type": "markdown",
      "metadata": {
        "id": "kLPILbgec9f6",
        "colab_type": "text"
      },
      "source": [
        "5. Unique Sort problem\n",
        "Take a string as input that accepts a comma separated sequence of words\n",
        "as input and prints the unique words in sorted form (alphanumerically).\n",
        "*Input*: orange, white, red, cyan, green, magenta, cyan, pink, white\n",
        "*Output*: cyan, green, magenta, orange, pink, red, white"
      ]
    },
    {
      "cell_type": "code",
      "metadata": {
        "id": "G0aKWH_4dEFW",
        "colab_type": "code",
        "colab": {
          "base_uri": "https://localhost:8080/",
          "height": 54
        },
        "outputId": "21068f85-5570-4d65-fd90-04e0050f0e63"
      },
      "source": [
        "items=input(\"Enter comma seperated sequence of words : \")\n",
        "words=[word for word in items.split(\",\")]\n",
        "print(\",\".join(sorted(list(set(words)))))\n"
      ],
      "execution_count": null,
      "outputs": [
        {
          "output_type": "stream",
          "text": [
            "Enter comma seperated sequence of words : orange,white,red,cyan,green,magenta,cyan,pink,white\n",
            "cyan,green,magenta,orange,pink,red,white\n"
          ],
          "name": "stdout"
        }
      ]
    },
    {
      "cell_type": "markdown",
      "metadata": {
        "id": "DWqV2fS2f0zh",
        "colab_type": "text"
      },
      "source": [
        "6. Tax Calculator\n",
        "Ask the user for their monthly salary. Calculate whether they have to pay\n",
        "tax and if so, how much is that amount .Print the result"
      ]
    },
    {
      "cell_type": "code",
      "metadata": {
        "id": "hCYy8lsBf7Ra",
        "colab_type": "code",
        "colab": {
          "base_uri": "https://localhost:8080/",
          "height": 54
        },
        "outputId": "e71ea21c-d95b-4fe3-b694-605bae90132c"
      },
      "source": [
        "salary=int(input(\"Enter the monthly salary of user : \"))\n",
        "if salary<=250000:\n",
        "     tax=0\n",
        "     print(\"Tax amount to be paid is : \",tax)\n",
        "elif salary>=250001 and salary<=500000:\n",
        "     tax=salary*5/100\n",
        "     print(\"Tax amount to be paid is : \",tax)\n",
        "elif salary>=500001 and salary<=750000:\n",
        "     tax=salary*10/100\n",
        "     print(\"Tax amount to be paid is : \",tax)\n",
        "elif salary>=750001 and salary<=1000000:\n",
        "     tax=salary*15/100\n",
        "     print(\"Tax amount to be paid is : \",tax)\n",
        "elif salary>=1000001 and salary<=1250000:\n",
        "     tax=salary*20/100\n",
        "     print(\"Tax amount to be paid is : \",tax)\n",
        "elif salary>=1250001 and salary<=150000:\n",
        "     tax=salary*25/100\n",
        "     print(\"Tax amount to be paid is : \",tax)\n",
        "else:\n",
        "     tax=salary*30/100\n",
        "     print(\"Tax amount to be paid is : \",tax)"
      ],
      "execution_count": null,
      "outputs": [
        {
          "output_type": "stream",
          "text": [
            "Enter the monthly salary of user : 450001\n",
            "Tax amount to be paid is :  22500.05\n"
          ],
          "name": "stdout"
        }
      ]
    },
    {
      "cell_type": "markdown",
      "metadata": {
        "id": "HGwvXZtala91",
        "colab_type": "text"
      },
      "source": [
        "7. Take a list of integers as an argument, and converts it into a single integer\n",
        "(return the integer).\n",
        "*Input*: [11, 33, 50]\n",
        "*Output*: 113350"
      ]
    },
    {
      "cell_type": "code",
      "metadata": {
        "id": "HSIiCW2MldgB",
        "colab_type": "code",
        "colab": {
          "base_uri": "https://localhost:8080/",
          "height": 35
        },
        "outputId": "7516461d-dbd5-45fb-a24f-f97c7b5a7f9a"
      },
      "source": [
        "list = [11,33,50]  \n",
        "for i in list:\n",
        "    print(i, end=\"\") "
      ],
      "execution_count": null,
      "outputs": [
        {
          "output_type": "stream",
          "text": [
            "113350"
          ],
          "name": "stdout"
        }
      ]
    },
    {
      "cell_type": "markdown",
      "metadata": {
        "id": "u5ptpfQRr2o4",
        "colab_type": "text"
      },
      "source": [
        "8. Units of Time\n",
        "\n",
        "Create a program that reads duration from the user as a number of days,\n",
        "hours, minutes, and seconds. Compute and display the total number of\n",
        "seconds represented by this duration."
      ]
    },
    {
      "cell_type": "code",
      "metadata": {
        "id": "X1IVMS4Ar7Dk",
        "colab_type": "code",
        "colab": {
          "base_uri": "https://localhost:8080/",
          "height": 111
        },
        "outputId": "eb1b548f-13e2-4ef4-83e1-a81e53816cd0"
      },
      "source": [
        "seconds_per_minute = 60\n",
        "seconds_per_hour = 3600\n",
        "seconds_per_day = 86400\n",
        "days=int(input(\"Enter number of Days : \"))\n",
        "hours=int(input(\"Enter number of Hours : \"))\n",
        "minutes=int(input(\"Enter number of Minutes : \"))\n",
        "seconds=int(input(\"Enter number of Seconds : \"))\n",
        "total_seconds=days*seconds_per_day\n",
        "total_seconds=total_seconds+(hours*seconds_per_hour)\n",
        "total_seconds=total_seconds+(minutes*seconds_per_minute)\n",
        "total_seconds=total_seconds+seconds\n",
        "print(\"Total number of seconds :\",total_seconds)"
      ],
      "execution_count": 8,
      "outputs": [
        {
          "output_type": "stream",
          "text": [
            "Enter number of Days : 5\n",
            "Enter number of Hours : 36\n",
            "Enter number of Minutes : 24\n",
            "Enter number of Seconds : 15\n",
            "Total number of seconds : 563055\n"
          ],
          "name": "stdout"
        }
      ]
    },
    {
      "cell_type": "markdown",
      "metadata": {
        "id": "Ep3nH2GITPfy",
        "colab_type": "text"
      },
      "source": [
        "9. Sort 3 Integers\n",
        "Given three integers (given through user input), sort the numbers using\n",
        "|min| and |max| functions."
      ]
    },
    {
      "cell_type": "code",
      "metadata": {
        "id": "VAa0GsUwTRks",
        "colab_type": "code",
        "colab": {
          "base_uri": "https://localhost:8080/",
          "height": 73
        },
        "outputId": "ae901162-56e5-4e1f-bb63-0435823c22ef"
      },
      "source": [
        "\n",
        "integers = [9,2,53]\n",
        "min_number = min(integers)\n",
        "print(min_number)\n",
        "integers.remove(min_number)\n",
        "mid_number_min = min(integers)\n",
        "print(mid_number_min)\n",
        "max_number = max(integers)\n",
        "print(max_number)\n",
        "integers.remove(max_number)"
      ],
      "execution_count": 23,
      "outputs": [
        {
          "output_type": "stream",
          "text": [
            "2\n",
            "9\n",
            "53\n"
          ],
          "name": "stdout"
        }
      ]
    },
    {
      "cell_type": "markdown",
      "metadata": {
        "id": "M_i8xWMzZRk-",
        "colab_type": "text"
      },
      "source": [
        "10. Write a program that reads a date from the user and computes its\n",
        "immediate successor. The date is the format YYYY-MM-DD. So, 2020-04-15\n",
        "will have the successor 2020-04-16."
      ]
    },
    {
      "cell_type": "code",
      "metadata": {
        "id": "rcZMo_q0ZZaa",
        "colab_type": "code",
        "colab": {
          "base_uri": "https://localhost:8080/",
          "height": 92
        },
        "outputId": "5da61642-97c2-47ba-a2f3-5e123eb74153"
      },
      "source": [
        "year = int(input(\"Input a year: \"))\n",
        "if (year % 400 == 0):\n",
        "    leap_year = True\n",
        "elif (year % 100 == 0):\n",
        "    leap_year = False\n",
        "elif (year % 4 == 0):\n",
        "    leap_year = True\n",
        "else:\n",
        "    leap_year = False\n",
        "month = int(input(\"Input a month : \"))\n",
        "if month in (1, 3, 5, 7, 8, 10, 12):\n",
        "    month_length = 31\n",
        "elif month == 2:\n",
        "    if leap_year:\n",
        "        month_length = 29\n",
        "    else:\n",
        "        month_length = 28\n",
        "else:\n",
        "    month_length = 30\n",
        "day = int(input(\"Input a day : \"))\n",
        "\n",
        "if day < month_length:\n",
        "    day += 1\n",
        "else:\n",
        "    day = 1\n",
        "    if month == 12:\n",
        "        month = 1\n",
        "        year += 1\n",
        "    else:\n",
        "        month += 1\n",
        "print(\"The next date is [yyyy-mm-dd] %d-%d-%d.\" % (year, month, day))\n"
      ],
      "execution_count": 25,
      "outputs": [
        {
          "output_type": "stream",
          "text": [
            "Input a year: 2020\n",
            "Input a month : 8\n",
            "Input a day : 23\n",
            "The next date is [yyyy-mm-dd] 2020-8-24.\n"
          ],
          "name": "stdout"
        }
      ]
    },
    {
      "cell_type": "markdown",
      "metadata": {
        "id": "JLKM_WjDaRWF",
        "colab_type": "text"
      },
      "source": [
        "11. Compute product of a list of numbers [45 ,3,2,89,72,1,10,7]\n",
        "Output: 121111200"
      ]
    },
    {
      "cell_type": "code",
      "metadata": {
        "id": "prSAFploaS2d",
        "colab_type": "code",
        "colab": {
          "base_uri": "https://localhost:8080/",
          "height": 36
        },
        "outputId": "63bdc44f-1038-4ce8-db2b-4d20f6d26c2f"
      },
      "source": [
        "def multiplyList(myList) :  \n",
        "    result = 1\n",
        "    for x in myList: \n",
        "         result = result * x  \n",
        "    return result  \n",
        "list = [45,3,2,89,72,1,10,7]  \n",
        "print(multiplyList(list)) "
      ],
      "execution_count": 28,
      "outputs": [
        {
          "output_type": "stream",
          "text": [
            "121111200\n"
          ],
          "name": "stdout"
        }
      ]
    },
    {
      "cell_type": "markdown",
      "metadata": {
        "id": "aP2WQnCCbV2k",
        "colab_type": "text"
      },
      "source": [
        "12. Compute given Num_list = [5, 6,8 ,34,89,1] to get desired output\n",
        "Output: Out_list=[11,14,42,123,90]"
      ]
    },
    {
      "cell_type": "code",
      "metadata": {
        "id": "IOObdt1wbbfm",
        "colab_type": "code",
        "colab": {}
      },
      "source": [
        ""
      ],
      "execution_count": null,
      "outputs": []
    },
    {
      "cell_type": "markdown",
      "metadata": {
        "id": "VLZ0DHrHb7kS",
        "colab_type": "text"
      },
      "source": [
        "13. Compute given Num_tuple = (5, 6,8 ,3,9,1) to get desired output\n",
        "Output: Out_list = [5, 30, 240, 720, 6480, 6480]"
      ]
    },
    {
      "cell_type": "code",
      "metadata": {
        "id": "77hzb2QFb9Cd",
        "colab_type": "code",
        "colab": {}
      },
      "source": [
        ""
      ],
      "execution_count": null,
      "outputs": []
    },
    {
      "cell_type": "markdown",
      "metadata": {
        "id": "cJX9JuEXb-xI",
        "colab_type": "text"
      },
      "source": [
        "14. Write a Python code that takes a number and returns a list of its digits. So\n",
        "for 586392 it should return [5,8,6,3,9,2]"
      ]
    },
    {
      "cell_type": "code",
      "metadata": {
        "id": "5z7ipCxAcDvM",
        "colab_type": "code",
        "colab": {}
      },
      "source": [
        ""
      ],
      "execution_count": null,
      "outputs": []
    },
    {
      "cell_type": "markdown",
      "metadata": {
        "id": "AqZ5dBOQcESG",
        "colab_type": "text"
      },
      "source": [
        "15. Write a program that finds the longest palindromic substring of a given\n",
        "string"
      ]
    },
    {
      "cell_type": "code",
      "metadata": {
        "id": "nUNUcpbOcJj1",
        "colab_type": "code",
        "colab": {
          "base_uri": "https://localhost:8080/",
          "height": 36
        },
        "outputId": "9cc2ffae-8d54-4575-a1cf-9879864ae16b"
      },
      "source": [
        "class Solution(object):\n",
        "   def longestPalindrome(self, s):\n",
        "      dp = [[False for i in range(len(s))] for i in range(len(s))]\n",
        "      for i in range(len(s)):\n",
        "         dp[i][i] = True\n",
        "      max_length = 1\n",
        "      start = 0\n",
        "      for l in range(2,len(s)+1):\n",
        "         for i in range(len(s)-l+1):\n",
        "            end = i+l\n",
        "            if l==2:\n",
        "               if s[i] == s[end-1]:\n",
        "                  dp[i][end-1]=True\n",
        "                  max_length = l\n",
        "                  start = i\n",
        "            else:\n",
        "               if s[i] == s[end-1] and dp[i+1][end-2]:\n",
        "                  dp[i][end-1]=True\n",
        "                  max_length = l\n",
        "                  start = i\n",
        "      return s[start:start+max_length]\n",
        "ob1 = Solution()\n",
        "print(ob1.longestPalindrome(\"ABBABBC\"))"
      ],
      "execution_count": 29,
      "outputs": [
        {
          "output_type": "stream",
          "text": [
            "BBABB\n"
          ],
          "name": "stdout"
        }
      ]
    },
    {
      "cell_type": "markdown",
      "metadata": {
        "id": "TZyR_n1ccKD6",
        "colab_type": "text"
      },
      "source": [
        "16. Substring Check (Bug Funny)\n",
        "Given two binary strings, A (of length 10) and B (of length 5), output 1 if B is\n",
        "a substring of A and 0 otherwise.\n",
        "First two lines of input:\n",
        "1010110010 10110\n",
        "1110111011 10011\n",
        "First two lines of output:\n",
        "1\n",
        "0"
      ]
    },
    {
      "cell_type": "code",
      "metadata": {
        "id": "Ze7-KD2DcQ0_",
        "colab_type": "code",
        "colab": {}
      },
      "source": [
        ""
      ],
      "execution_count": null,
      "outputs": []
    },
    {
      "cell_type": "markdown",
      "metadata": {
        "id": "VWW5eS7-cRRS",
        "colab_type": "text"
      },
      "source": [
        "17. POUR1 - Pouring water\n",
        "Given two vessels, one of which can accommodate a litres of water and the other\n",
        "- b litres of water, determine the number of steps required to obtain\n",
        "exactly c litres of water in one of the vessels.\n",
        "At the beginning both vessels are empty. The following operations are counted as\n",
        "&#39;steps&#39;:\n",
        " emptying a vessel,\n",
        " filling a vessel,\n",
        " pouring water from one vessel to the other, without spilling, until one of\n",
        "the vessels is either full or empty.\n",
        "Input\n",
        "An integer t, 1&lt;=t&lt;=100, denoting the number of testcases , followed by t sets of\n",
        "input data, each consisting of three positive integers a, b, c, not larger than\n",
        "40000, given in separate lines.\n",
        "Output\n",
        "For each set of input data, output the minimum number of steps required to\n",
        "obtain c litres, or -1 if this is impossible."
      ]
    },
    {
      "cell_type": "code",
      "metadata": {
        "id": "sK1pJ5QrcZhZ",
        "colab_type": "code",
        "colab": {}
      },
      "source": [
        ""
      ],
      "execution_count": null,
      "outputs": []
    }
  ]
}