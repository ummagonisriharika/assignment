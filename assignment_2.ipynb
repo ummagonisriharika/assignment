{
  "nbformat": 4,
  "nbformat_minor": 0,
  "metadata": {
    "colab": {
      "name": "assignment 2.ipynb",
      "provenance": [],
      "collapsed_sections": [],
      "authorship_tag": "ABX9TyMZJGWjsFAPYHASy3Q5fGy8",
      "include_colab_link": true
    },
    "kernelspec": {
      "name": "python3",
      "display_name": "Python 3"
    }
  },
  "cells": [
    {
      "cell_type": "markdown",
      "metadata": {
        "id": "view-in-github",
        "colab_type": "text"
      },
      "source": [
        "<a href=\"https://colab.research.google.com/github/ummagonisriharika/assignment/blob/master/assignment_2.ipynb\" target=\"_parent\"><img src=\"https://colab.research.google.com/assets/colab-badge.svg\" alt=\"Open In Colab\"/></a>"
      ]
    },
    {
      "cell_type": "markdown",
      "metadata": {
        "id": "n1BournOUl6A",
        "colab_type": "text"
      },
      "source": [
        "1. Area of Triangle :\n",
        "\n",
        "Given the lengths of three sides of a triangle, calculate the area of\n",
        "the triangle."
      ]
    },
    {
      "cell_type": "code",
      "metadata": {
        "id": "mIU82avBUr5n",
        "colab_type": "code",
        "colab": {
          "base_uri": "https://localhost:8080/",
          "height": 91
        },
        "outputId": "ce7483ef-34a0-4441-83ea-142d9b6c4ea4"
      },
      "source": [
        "a=int(input(\"Enter first side : \"))\n",
        "b=int(input(\"Enter second side : \"))\n",
        "c=int(input(\"Enter third side : \"))\n",
        "S=(a+b+c)/2\n",
        "area = (S*(S-a)*(S-b)*(S-c))**0.5\n",
        "print(\"Area of triangle is : \",area)"
      ],
      "execution_count": null,
      "outputs": [
        {
          "output_type": "stream",
          "text": [
            "Enter first side : 15\n",
            "Enter second side : 9\n",
            "Enter third side : 7\n",
            "Area of triangle is :  20.69269194667528\n"
          ],
          "name": "stdout"
        }
      ]
    },
    {
      "cell_type": "markdown",
      "metadata": {
        "id": "e2hVSiCjXpxS",
        "colab_type": "text"
      },
      "source": [
        "2. Take a string from end user and check if the value is palindrome or not"
      ]
    },
    {
      "cell_type": "code",
      "metadata": {
        "id": "Atq9wW71X49D",
        "colab_type": "code",
        "colab": {
          "base_uri": "https://localhost:8080/",
          "height": 54
        },
        "outputId": "c74b4358-225b-480d-bbfe-e20ff12c06f5"
      },
      "source": [
        "string=input(\"Enter string : \")\n",
        "if(string==string[::-1]):\n",
        "  print(\"The string is palindrome\")\n",
        "else:\n",
        "  print(\"The string is not a palindrome\")"
      ],
      "execution_count": null,
      "outputs": [
        {
          "output_type": "stream",
          "text": [
            "Enter string : malayalam\n",
            "The string is palindrome\n"
          ],
          "name": "stdout"
        }
      ]
    },
    {
      "cell_type": "markdown",
      "metadata": {
        "id": "sOlPwuEoaMJH",
        "colab_type": "text"
      },
      "source": [
        "3. Write a program that reads a year from the user and displays a message\n",
        "Indicating whether or not it is a leap year."
      ]
    },
    {
      "cell_type": "code",
      "metadata": {
        "id": "fmNzw4z7aPoo",
        "colab_type": "code",
        "colab": {
          "base_uri": "https://localhost:8080/",
          "height": 54
        },
        "outputId": "76f9d77b-0e75-455e-f32b-38d3f0a03d56"
      },
      "source": [
        "year=int(input(\"Enter year\"))\n",
        "if (year%4)==0:\n",
        "   if (year%100)==0:\n",
        "       if (year%400)==0:\n",
        "           print(year,\" is a leap year\")\n",
        "       else:\n",
        "           print(year,\" is not a leap year\")\n",
        "   else:\n",
        "       print(year,\" is a leap year\")\n",
        "else:\n",
        "   print(year,\" is not a leap year\")"
      ],
      "execution_count": null,
      "outputs": [
        {
          "output_type": "stream",
          "text": [
            "Enter year2000\n",
            "2000  is a leap year\n"
          ],
          "name": "stdout"
        }
      ]
    },
    {
      "cell_type": "markdown",
      "metadata": {
        "id": "zNH_2AjucFus",
        "colab_type": "text"
      },
      "source": [
        "4. Space To Hyphen problem\n",
        "\n",
        "Take a string as input, and replaces spaces “ “ with hyphens “-”, and\n",
        "returns a string.\n",
        "Input: “ This program converts spaces into hyphen”\n",
        "Output: “ This-program-converts-spaces-into-hyphen”"
      ]
    },
    {
      "cell_type": "code",
      "metadata": {
        "id": "VmmF9Z3mcMm9",
        "colab_type": "code",
        "colab": {
          "base_uri": "https://localhost:8080/",
          "height": 54
        },
        "outputId": "6e036959-8692-4153-821c-51ba8719144d"
      },
      "source": [
        "str1=input(\"Enter string : \")\n",
        "str2=str1.replace(' ','-')\n",
        "print(str2) "
      ],
      "execution_count": null,
      "outputs": [
        {
          "output_type": "stream",
          "text": [
            "Enter string : This program converts spaces into hyphen\n",
            "This-program-converts-spaces-into-hyphen\n"
          ],
          "name": "stdout"
        }
      ]
    },
    {
      "cell_type": "markdown",
      "metadata": {
        "id": "kLPILbgec9f6",
        "colab_type": "text"
      },
      "source": [
        "5. Unique Sort problem\n",
        "Take a string as input that accepts a comma separated sequence of words\n",
        "as input and prints the unique words in sorted form (alphanumerically).\n",
        "*Input*: orange, white, red, cyan, green, magenta, cyan, pink, white\n",
        "*Output*: cyan, green, magenta, orange, pink, red, white"
      ]
    },
    {
      "cell_type": "code",
      "metadata": {
        "id": "G0aKWH_4dEFW",
        "colab_type": "code",
        "colab": {
          "base_uri": "https://localhost:8080/",
          "height": 54
        },
        "outputId": "21068f85-5570-4d65-fd90-04e0050f0e63"
      },
      "source": [
        "items=input(\"Enter comma seperated sequence of words : \")\n",
        "words=[word for word in items.split(\",\")]\n",
        "print(\",\".join(sorted(list(set(words)))))\n"
      ],
      "execution_count": null,
      "outputs": [
        {
          "output_type": "stream",
          "text": [
            "Enter comma seperated sequence of words : orange,white,red,cyan,green,magenta,cyan,pink,white\n",
            "cyan,green,magenta,orange,pink,red,white\n"
          ],
          "name": "stdout"
        }
      ]
    },
    {
      "cell_type": "markdown",
      "metadata": {
        "id": "DWqV2fS2f0zh",
        "colab_type": "text"
      },
      "source": [
        "6. Tax Calculator\n",
        "Ask the user for their monthly salary. Calculate whether they have to pay\n",
        "tax and if so, how much is that amount .Print the result"
      ]
    },
    {
      "cell_type": "code",
      "metadata": {
        "id": "hCYy8lsBf7Ra",
        "colab_type": "code",
        "colab": {
          "base_uri": "https://localhost:8080/",
          "height": 54
        },
        "outputId": "e71ea21c-d95b-4fe3-b694-605bae90132c"
      },
      "source": [
        "salary=int(input(\"Enter the monthly salary of user : \"))\n",
        "if salary<=250000:\n",
        "     tax=0\n",
        "     print(\"Tax amount to be paid is : \",tax)\n",
        "elif salary>=250001 and salary<=500000:\n",
        "     tax=salary*5/100\n",
        "     print(\"Tax amount to be paid is : \",tax)\n",
        "elif salary>=500001 and salary<=750000:\n",
        "     tax=salary*10/100\n",
        "     print(\"Tax amount to be paid is : \",tax)\n",
        "elif salary>=750001 and salary<=1000000:\n",
        "     tax=salary*15/100\n",
        "     print(\"Tax amount to be paid is : \",tax)\n",
        "elif salary>=1000001 and salary<=1250000:\n",
        "     tax=salary*20/100\n",
        "     print(\"Tax amount to be paid is : \",tax)\n",
        "elif salary>=1250001 and salary<=150000:\n",
        "     tax=salary*25/100\n",
        "     print(\"Tax amount to be paid is : \",tax)\n",
        "else:\n",
        "     tax=salary*30/100\n",
        "     print(\"Tax amount to be paid is : \",tax)"
      ],
      "execution_count": null,
      "outputs": [
        {
          "output_type": "stream",
          "text": [
            "Enter the monthly salary of user : 450001\n",
            "Tax amount to be paid is :  22500.05\n"
          ],
          "name": "stdout"
        }
      ]
    },
    {
      "cell_type": "markdown",
      "metadata": {
        "id": "HGwvXZtala91",
        "colab_type": "text"
      },
      "source": [
        "7. Take a list of integers as an argument, and converts it into a single integer\n",
        "(return the integer).\n",
        "*Input*: [11, 33, 50]\n",
        "*Output*: 113350"
      ]
    },
    {
      "cell_type": "code",
      "metadata": {
        "id": "HSIiCW2MldgB",
        "colab_type": "code",
        "colab": {
          "base_uri": "https://localhost:8080/",
          "height": 35
        },
        "outputId": "7516461d-dbd5-45fb-a24f-f97c7b5a7f9a"
      },
      "source": [
        "list = [11,33,50]  \n",
        "for i in list:\n",
        "    print(i, end=\"\") "
      ],
      "execution_count": null,
      "outputs": [
        {
          "output_type": "stream",
          "text": [
            "113350"
          ],
          "name": "stdout"
        }
      ]
    },
    {
      "cell_type": "markdown",
      "metadata": {
        "id": "u5ptpfQRr2o4",
        "colab_type": "text"
      },
      "source": [
        "8. Units of Time\n",
        "\n",
        "Create a program that reads duration from the user as a number of days,\n",
        "hours, minutes, and seconds. Compute and display the total number of\n",
        "seconds represented by this duration."
      ]
    },
    {
      "cell_type": "code",
      "metadata": {
        "id": "X1IVMS4Ar7Dk",
        "colab_type": "code",
        "colab": {
          "base_uri": "https://localhost:8080/",
          "height": 111
        },
        "outputId": "eb1b548f-13e2-4ef4-83e1-a81e53816cd0"
      },
      "source": [
        "seconds_per_minute = 60\n",
        "seconds_per_hour = 3600\n",
        "seconds_per_day = 86400\n",
        "days=int(input(\"Enter number of Days : \"))\n",
        "hours=int(input(\"Enter number of Hours : \"))\n",
        "minutes=int(input(\"Enter number of Minutes : \"))\n",
        "seconds=int(input(\"Enter number of Seconds : \"))\n",
        "total_seconds=days*seconds_per_day\n",
        "total_seconds=total_seconds+(hours*seconds_per_hour)\n",
        "total_seconds=total_seconds+(minutes*seconds_per_minute)\n",
        "total_seconds=total_seconds+seconds\n",
        "print(\"Total number of seconds :\",total_seconds)"
      ],
      "execution_count": null,
      "outputs": [
        {
          "output_type": "stream",
          "text": [
            "Enter number of Days : 5\n",
            "Enter number of Hours : 36\n",
            "Enter number of Minutes : 24\n",
            "Enter number of Seconds : 15\n",
            "Total number of seconds : 563055\n"
          ],
          "name": "stdout"
        }
      ]
    },
    {
      "cell_type": "markdown",
      "metadata": {
        "id": "Ep3nH2GITPfy",
        "colab_type": "text"
      },
      "source": [
        "9. Sort 3 Integers\n",
        "Given three integers (given through user input), sort the numbers using\n",
        "|min| and |max| functions."
      ]
    },
    {
      "cell_type": "code",
      "metadata": {
        "id": "VAa0GsUwTRks",
        "colab_type": "code",
        "colab": {
          "base_uri": "https://localhost:8080/",
          "height": 92
        },
        "outputId": "42c95ec1-d907-4de2-fa7d-d8bd81ddc778"
      },
      "source": [
        "x=int(input(\"Enter first integer : \")) \n",
        "y=int(input(\"Enter second integer : \"))\n",
        "z=int(input(\"Enter third integer : \"))\n",
        "a=min(x,y,z)\n",
        "b=max(x-y,z)\n",
        "c=(x+y+z)-a-b\n",
        "print(\"sorted order : \",a,c,b)"
      ],
      "execution_count": null,
      "outputs": [
        {
          "output_type": "stream",
          "text": [
            "Enter first integer : 9\n",
            "Enter second integer : 2\n",
            "Enter third integer : 53\n",
            "sorted order :  2 9 53\n"
          ],
          "name": "stdout"
        }
      ]
    },
    {
      "cell_type": "markdown",
      "metadata": {
        "id": "M_i8xWMzZRk-",
        "colab_type": "text"
      },
      "source": [
        "10. Write a program that reads a date from the user and computes its\n",
        "immediate successor. The date is the format YYYY-MM-DD. So, 2020-04-15\n",
        "will have the successor 2020-04-16."
      ]
    },
    {
      "cell_type": "code",
      "metadata": {
        "id": "rcZMo_q0ZZaa",
        "colab_type": "code",
        "colab": {
          "base_uri": "https://localhost:8080/",
          "height": 92
        },
        "outputId": "a152b061-12e9-4d9b-aadb-df9afa798fc1"
      },
      "source": [
        "year = int(input(\"Input a year: \"))\n",
        "if (year % 400 == 0):\n",
        "    leap_year = True\n",
        "elif (year % 100 == 0):\n",
        "    leap_year = False\n",
        "elif (year % 4 == 0):\n",
        "    leap_year = True\n",
        "else:\n",
        "    leap_year = False\n",
        "month = int(input(\"Input a month : \"))\n",
        "if month in (1, 3, 5, 7, 8, 10, 12):\n",
        "    month_length = 31\n",
        "elif month == 2:\n",
        "    if leap_year:\n",
        "        month_length = 29\n",
        "    else:\n",
        "        month_length = 28\n",
        "else:\n",
        "    month_length = 30\n",
        "day = int(input(\"Input a day : \"))\n",
        "\n",
        "if day < month_length:\n",
        "    day += 1\n",
        "else:\n",
        "    day = 1\n",
        "    if month == 12:\n",
        "        month = 1\n",
        "        year += 1\n",
        "    else:\n",
        "        month += 1\n",
        "print(\"The next date is [yyyy-mm-dd] : %d-%d-%d\" %(year,month,day))\n"
      ],
      "execution_count": null,
      "outputs": [
        {
          "output_type": "stream",
          "text": [
            "Input a year: 2020\n",
            "Input a month : 4\n",
            "Input a day : 15\n",
            "The next date is [yyyy-mm-dd] : 2020-4-16\n"
          ],
          "name": "stdout"
        }
      ]
    },
    {
      "cell_type": "markdown",
      "metadata": {
        "id": "JLKM_WjDaRWF",
        "colab_type": "text"
      },
      "source": [
        "11. Compute product of a list of numbers [45 ,3,2,89,72,1,10,7]\n",
        "Output: 121111200"
      ]
    },
    {
      "cell_type": "code",
      "metadata": {
        "id": "prSAFploaS2d",
        "colab_type": "code",
        "colab": {
          "base_uri": "https://localhost:8080/",
          "height": 36
        },
        "outputId": "4d824a3e-664a-473d-ca02-b98cde38ef88"
      },
      "source": [
        "def multiplyList(myList) :  \n",
        "    result = 1\n",
        "    for x in myList: \n",
        "         result = result * x  \n",
        "    return result  \n",
        "list = [45,3,2,89,72,1,10,7]  \n",
        "print(multiplyList(list)) "
      ],
      "execution_count": null,
      "outputs": [
        {
          "output_type": "stream",
          "text": [
            "121111200\n"
          ],
          "name": "stdout"
        }
      ]
    },
    {
      "cell_type": "markdown",
      "metadata": {
        "id": "aP2WQnCCbV2k",
        "colab_type": "text"
      },
      "source": [
        "12. Compute given Num_list = [5, 6,8 ,34,89,1] to get desired output\n",
        "Output: Out_list=[11,14,42,123,90]"
      ]
    },
    {
      "cell_type": "code",
      "metadata": {
        "id": "IOObdt1wbbfm",
        "colab_type": "code",
        "colab": {
          "base_uri": "https://localhost:8080/",
          "height": 35
        },
        "outputId": "f9cf85d7-f098-499d-cebb-ffc0a4a91c86"
      },
      "source": [
        "l=[5,6,8,34,89,1]\n",
        "Out_list=[]\n",
        "for i in range(len(l)-1):\n",
        "    ol=l[i]+l[i+1]\n",
        "    Out_list.append(ol)\n",
        "print(\"Desired output : \",Out_list)"
      ],
      "execution_count": 7,
      "outputs": [
        {
          "output_type": "stream",
          "text": [
            "Desired output :  [11, 14, 42, 123, 90]\n"
          ],
          "name": "stdout"
        }
      ]
    },
    {
      "cell_type": "markdown",
      "metadata": {
        "id": "VLZ0DHrHb7kS",
        "colab_type": "text"
      },
      "source": [
        "13. Compute given Num_tuple = (5, 6,8 ,3,9,1) to get desired output\n",
        "Output: Out_list = [5, 30, 240, 720, 6480, 6480]"
      ]
    },
    {
      "cell_type": "code",
      "metadata": {
        "id": "77hzb2QFb9Cd",
        "colab_type": "code",
        "colab": {
          "base_uri": "https://localhost:8080/",
          "height": 35
        },
        "outputId": "8bff2a63-66dd-477d-9261-44f9230c8561"
      },
      "source": [
        "t=(5,6,8,3,9,1)\n",
        "Out_list=[]\n",
        "Out_list.append(n[0])\n",
        "for i in range(len(n)-1):\n",
        "    m=Out_list[i]*t[i+1]\n",
        "    Out_list.append(m)\n",
        "print(\"Desired output : \",Out_list)"
      ],
      "execution_count": 6,
      "outputs": [
        {
          "output_type": "stream",
          "text": [
            "Desired output :  [5, 30, 240, 720, 6480, 6480]\n"
          ],
          "name": "stdout"
        }
      ]
    },
    {
      "cell_type": "markdown",
      "metadata": {
        "id": "cJX9JuEXb-xI",
        "colab_type": "text"
      },
      "source": [
        "14. Write a Python code that takes a number and returns a list of its digits. So\n",
        "for 586392 it should return [5,8,6,3,9,2]"
      ]
    },
    {
      "cell_type": "code",
      "metadata": {
        "id": "5z7ipCxAcDvM",
        "colab_type": "code",
        "colab": {
          "base_uri": "https://localhost:8080/",
          "height": 54
        },
        "outputId": "6bb163fa-1856-4fe5-e5a9-144a366c5e7a"
      },
      "source": [
        "number=input(\"Enter the number : \")\n",
        "c = str(number)\n",
        "list = []\n",
        "for i in range(len(c)):\n",
        "    list.append(int(c[i]))\n",
        "print(list)"
      ],
      "execution_count": null,
      "outputs": [
        {
          "output_type": "stream",
          "text": [
            "Enter the number : 586392\n",
            "[5, 8, 6, 3, 9, 2]\n"
          ],
          "name": "stdout"
        }
      ]
    },
    {
      "cell_type": "markdown",
      "metadata": {
        "id": "AqZ5dBOQcESG",
        "colab_type": "text"
      },
      "source": [
        "15. Write a program that finds the longest palindromic substring of a given\n",
        "string"
      ]
    },
    {
      "cell_type": "code",
      "metadata": {
        "id": "nUNUcpbOcJj1",
        "colab_type": "code",
        "colab": {
          "base_uri": "https://localhost:8080/",
          "height": 53
        },
        "outputId": "9e672339-f2d3-46cc-872b-267b0b5f3085"
      },
      "source": [
        "class Solution(object):\n",
        "   def longestPalindrome(self, s):\n",
        "      dp = [[False for i in range(len(s))] for i in range(len(s))]\n",
        "      for i in range(len(s)):\n",
        "         dp[i][i] = True\n",
        "      max_length = 1\n",
        "      start = 0\n",
        "      for l in range(2,len(s)+1):\n",
        "         for i in range(len(s)-l+1):\n",
        "            end = i+l\n",
        "            if l==2:\n",
        "               if s[i] == s[end-1]:\n",
        "                  dp[i][end-1]=True\n",
        "                  max_length = l\n",
        "                  start = i\n",
        "            else:\n",
        "               if s[i] == s[end-1] and dp[i+1][end-2]:\n",
        "                  dp[i][end-1]=True\n",
        "                  max_length = l\n",
        "                  start = i\n",
        "      return s[start:start+max_length]\n",
        "n=input(\"Enter string : \")\n",
        "ob1 = Solution()\n",
        "print(ob1.longestPalindrome(n))"
      ],
      "execution_count": 21,
      "outputs": [
        {
          "output_type": "stream",
          "text": [
            "Enter string : ABBABBC\n",
            "BBABB\n"
          ],
          "name": "stdout"
        }
      ]
    },
    {
      "cell_type": "markdown",
      "metadata": {
        "id": "TZyR_n1ccKD6",
        "colab_type": "text"
      },
      "source": [
        "16. Substring Check (Bug Funny)\n",
        "Given two binary strings, A (of length 10) and B (of length 5), output 1 if B is\n",
        "a substring of A and 0 otherwise.\n",
        "First two lines of input:\n",
        "1010110010 10110\n",
        "1110111011 10011\n",
        "First two lines of output:\n",
        "1\n",
        "0"
      ]
    },
    {
      "cell_type": "code",
      "metadata": {
        "id": "__ftSnA0JpAq",
        "colab_type": "code",
        "colab": {
          "base_uri": "https://localhost:8080/",
          "height": 145
        },
        "outputId": "9ed292e0-5e47-4fda-b8c8-a40d3b67c961"
      },
      "source": [
        "\n",
        "t=int(input(\"Enter number of test cases : \"))\n",
        "for i in range(t):\n",
        "  A=input(\"Enter A string : \")\n",
        "  B=input(\"Enter B string : \")\n",
        "  if B in A:\n",
        "    print(\"1\")\n",
        "  else:\n",
        "    print(\"0\")"
      ],
      "execution_count": 12,
      "outputs": [
        {
          "output_type": "stream",
          "text": [
            "Enter number of test cases : 2\n",
            "Enter A string : 1010110010\n",
            "Enter B string : 10110\n",
            "1\n",
            "Enter A string : 1110111011\n",
            "Enter B string : 10011\n",
            "0\n"
          ],
          "name": "stdout"
        }
      ]
    },
    {
      "cell_type": "markdown",
      "metadata": {
        "id": "VWW5eS7-cRRS",
        "colab_type": "text"
      },
      "source": [
        "17. POUR1 - Pouring water\n",
        "Given two vessels, one of which can accommodate a litres of water and the other\n",
        "- b litres of water, determine the number of steps required to obtain\n",
        "exactly c litres of water in one of the vessels.\n",
        "At the beginning both vessels are empty. The following operations are counted as\n",
        "&#39;steps&#39;:\n",
        " emptying a vessel,\n",
        " filling a vessel,\n",
        " pouring water from one vessel to the other, without spilling, until one of\n",
        "the vessels is either full or empty.\n",
        "Input\n",
        "An integer t, 1&lt;=t&lt;=100, denoting the number of testcases , followed by t sets of\n",
        "input data, each consisting of three positive integers a, b, c, not larger than\n",
        "40000, given in separate lines.\n",
        "Output\n",
        "For each set of input data, output the minimum number of steps required to\n",
        "obtain c litres, or -1 if this is impossible"
      ]
    },
    {
      "cell_type": "code",
      "metadata": {
        "id": "sK1pJ5QrcZhZ",
        "colab_type": "code",
        "colab": {
          "base_uri": "https://localhost:8080/",
          "height": 181
        },
        "outputId": "93dad6e0-d604-459d-85e0-b950b1472fb7"
      },
      "source": [
        "def gcd(a,b):\n",
        "    if b==0: \n",
        "        return a \n",
        "    return gcd(b,a%b) \n",
        "def countsteps(a,b,c): \n",
        "    v1=b\n",
        "    v2=0\n",
        "    count=1\n",
        "    while ((v1 is not c) and (v2 is not c)): \n",
        "        temp=min(v1,a-v2) \n",
        "        v2=v2+temp \n",
        "        v1=v1-temp \n",
        "        count=count+1\n",
        "        if ((v2==c)or(v1==c)): \n",
        "            break\n",
        "        if v1==0: \n",
        "            v1=b \n",
        "            count=count+1\n",
        "        if v2==a: \n",
        "            v2=0\n",
        "            count=count+1\n",
        "    return count \n",
        "def ispossible(a,b,c): \n",
        "    if a>b: \n",
        "        temp=a \n",
        "        a=b \n",
        "        b=temp \n",
        "    if c>b: \n",
        "        return -1\n",
        "    if (c%(gcd(b,a)) is not 0): \n",
        "        return -1\n",
        "    return(min(countsteps(b,a,c),countsteps(a,b,c)))\n",
        "t=int(input(\"Enter number of testcases : \"))\n",
        "for i in range(t):\n",
        "  a=int(input(\"Enter capacity of vessel a : \"))\n",
        "  b=int(input(\"Enter capacity of vessel b : \"))\n",
        "  c=int(input(\"Enter capacity to be obtained : \"))\n",
        "  print(\"Minimum number of steps required is : \",ispossible(a,b,c))"
      ],
      "execution_count": 15,
      "outputs": [
        {
          "output_type": "stream",
          "text": [
            "Enter number of testcases : 2\n",
            "Enter capacity of vessel a : 90\n",
            "Enter capacity of vessel b : 67\n",
            "Enter capacity to be obtained : 30\n",
            "Minimum number of steps required is :  102\n",
            "Enter capacity of vessel a : 230\n",
            "Enter capacity of vessel b : 150\n",
            "Enter capacity to be obtained : 100\n",
            "Minimum number of steps required is :  22\n"
          ],
          "name": "stdout"
        }
      ]
    }
  ]
}